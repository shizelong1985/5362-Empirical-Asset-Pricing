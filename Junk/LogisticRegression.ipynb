{
 "cells": [
  {
   "cell_type": "code",
   "execution_count": 1,
   "metadata": {},
   "outputs": [],
   "source": [
    "# Import libraries\n",
    "import pandas as pd\n",
    "import yfinance as yf\n",
    "import statsmodels.api as sm"
   ]
  },
  {
   "cell_type": "code",
   "execution_count": 2,
   "metadata": {},
   "outputs": [
    {
     "name": "stdout",
     "output_type": "stream",
     "text": [
      "[*********************100%***********************]  1 of 1 completed\n"
     ]
    }
   ],
   "source": [
    "# Download historical data for required stocks.\n",
    "ticker = \"SPY\"\n",
    "data = yf.download(ticker, start=\"1990-01-01\")\n",
    "data = data.reset_index()\n",
    "df = data['Adj Close'].pct_change()*100\n",
    "df = df.rename('Today')\n",
    "df = df.reset_index()"
   ]
  },
  {
   "cell_type": "code",
   "execution_count": 3,
   "metadata": {},
   "outputs": [],
   "source": [
    "# Get the lagged return from the 5 previous trading days\n",
    "for i in range(1,6):\n",
    "    df['Lag'+str(i)] = df['Today'].shift(i)\n"
   ]
  },
  {
   "cell_type": "code",
   "execution_count": 4,
   "metadata": {},
   "outputs": [],
   "source": [
    "# Add previous days volume in billions from data to df\n",
    "df['Volume'] = data['Volume'].shift(1)/1000000"
   ]
  },
  {
   "cell_type": "code",
   "execution_count": 5,
   "metadata": {},
   "outputs": [],
   "source": [
    "# Create the dependent variable where if daily return is greater than 0, then 1, else, 0.\n",
    "df['Direction'] = [1 if df['Today'][i] > 0 else 0 for i in range(len(df['Today']))]"
   ]
  },
  {
   "cell_type": "code",
   "execution_count": 6,
   "metadata": {},
   "outputs": [],
   "source": [
    "# Add a constant\n",
    "df['Constant'] = 1"
   ]
  },
  {
   "cell_type": "code",
   "execution_count": 7,
   "metadata": {},
   "outputs": [],
   "source": [
    "# Remove rows with NaN values\n",
    "df = df.dropna()"
   ]
  },
  {
   "cell_type": "code",
   "execution_count": 8,
   "metadata": {},
   "outputs": [
    {
     "name": "stdout",
     "output_type": "stream",
     "text": [
      "Optimization terminated successfully.\n",
      "         Current function value: 0.689101\n",
      "         Iterations 4\n"
     ]
    }
   ],
   "source": [
    "# Define the independent variables set and the dependent variable\n",
    "X = df[['Constant','Lag1','Lag2','Lag3','Lag4','Lag5','Volume']]\n",
    "y = df['Direction']\n",
    "\n",
    "# Create the logistic regression model\n",
    "logit = sm.Logit(y,X)\n",
    "\n",
    "# Fit the model\n",
    "result = logit.fit()"
   ]
  },
  {
   "cell_type": "code",
   "execution_count": 9,
   "metadata": {},
   "outputs": [
    {
     "data": {
      "text/html": [
       "<table class=\"simpletable\">\n",
       "<caption>Logit Regression Results</caption>\n",
       "<tr>\n",
       "  <th>Dep. Variable:</th>       <td>Direction</td>    <th>  No. Observations:  </th>  <td>  7522</td> \n",
       "</tr>\n",
       "<tr>\n",
       "  <th>Model:</th>                 <td>Logit</td>      <th>  Df Residuals:      </th>  <td>  7515</td> \n",
       "</tr>\n",
       "<tr>\n",
       "  <th>Method:</th>                 <td>MLE</td>       <th>  Df Model:          </th>  <td>     6</td> \n",
       "</tr>\n",
       "<tr>\n",
       "  <th>Date:</th>            <td>Tue, 20 Dec 2022</td> <th>  Pseudo R-squ.:     </th> <td>0.001757</td>\n",
       "</tr>\n",
       "<tr>\n",
       "  <th>Time:</th>                <td>12:54:02</td>     <th>  Log-Likelihood:    </th> <td> -5183.4</td>\n",
       "</tr>\n",
       "<tr>\n",
       "  <th>converged:</th>             <td>True</td>       <th>  LL-Null:           </th> <td> -5192.5</td>\n",
       "</tr>\n",
       "<tr>\n",
       "  <th>Covariance Type:</th>     <td>nonrobust</td>    <th>  LLR p-value:       </th> <td>0.005649</td>\n",
       "</tr>\n",
       "</table>\n",
       "<table class=\"simpletable\">\n",
       "<tr>\n",
       "      <td></td>        <th>coef</th>     <th>std err</th>      <th>z</th>      <th>P>|z|</th>  <th>[0.025</th>    <th>0.975]</th>  \n",
       "</tr>\n",
       "<tr>\n",
       "  <th>Constant</th> <td>    0.1477</td> <td>    0.032</td> <td>    4.631</td> <td> 0.000</td> <td>    0.085</td> <td>    0.210</td>\n",
       "</tr>\n",
       "<tr>\n",
       "  <th>Lag1</th>     <td>   -0.0703</td> <td>    0.020</td> <td>   -3.549</td> <td> 0.000</td> <td>   -0.109</td> <td>   -0.031</td>\n",
       "</tr>\n",
       "<tr>\n",
       "  <th>Lag2</th>     <td>   -0.0182</td> <td>    0.020</td> <td>   -0.917</td> <td> 0.359</td> <td>   -0.057</td> <td>    0.021</td>\n",
       "</tr>\n",
       "<tr>\n",
       "  <th>Lag3</th>     <td>   -0.0273</td> <td>    0.020</td> <td>   -1.377</td> <td> 0.168</td> <td>   -0.066</td> <td>    0.012</td>\n",
       "</tr>\n",
       "<tr>\n",
       "  <th>Lag4</th>     <td>   -0.0206</td> <td>    0.020</td> <td>   -1.043</td> <td> 0.297</td> <td>   -0.059</td> <td>    0.018</td>\n",
       "</tr>\n",
       "<tr>\n",
       "  <th>Lag5</th>     <td>   -0.0307</td> <td>    0.020</td> <td>   -1.560</td> <td> 0.119</td> <td>   -0.069</td> <td>    0.008</td>\n",
       "</tr>\n",
       "<tr>\n",
       "  <th>Volume</th>   <td>    0.0001</td> <td>    0.000</td> <td>    0.500</td> <td> 0.617</td> <td>   -0.000</td> <td>    0.001</td>\n",
       "</tr>\n",
       "</table>"
      ],
      "text/plain": [
       "<class 'statsmodels.iolib.summary.Summary'>\n",
       "\"\"\"\n",
       "                           Logit Regression Results                           \n",
       "==============================================================================\n",
       "Dep. Variable:              Direction   No. Observations:                 7522\n",
       "Model:                          Logit   Df Residuals:                     7515\n",
       "Method:                           MLE   Df Model:                            6\n",
       "Date:                Tue, 20 Dec 2022   Pseudo R-squ.:                0.001757\n",
       "Time:                        12:54:02   Log-Likelihood:                -5183.4\n",
       "converged:                       True   LL-Null:                       -5192.5\n",
       "Covariance Type:            nonrobust   LLR p-value:                  0.005649\n",
       "==============================================================================\n",
       "                 coef    std err          z      P>|z|      [0.025      0.975]\n",
       "------------------------------------------------------------------------------\n",
       "Constant       0.1477      0.032      4.631      0.000       0.085       0.210\n",
       "Lag1          -0.0703      0.020     -3.549      0.000      -0.109      -0.031\n",
       "Lag2          -0.0182      0.020     -0.917      0.359      -0.057       0.021\n",
       "Lag3          -0.0273      0.020     -1.377      0.168      -0.066       0.012\n",
       "Lag4          -0.0206      0.020     -1.043      0.297      -0.059       0.018\n",
       "Lag5          -0.0307      0.020     -1.560      0.119      -0.069       0.008\n",
       "Volume         0.0001      0.000      0.500      0.617      -0.000       0.001\n",
       "==============================================================================\n",
       "\"\"\""
      ]
     },
     "execution_count": 9,
     "metadata": {},
     "output_type": "execute_result"
    }
   ],
   "source": [
    "result.summary()"
   ]
  },
  {
   "cell_type": "code",
   "execution_count": 10,
   "metadata": {},
   "outputs": [],
   "source": [
    "# Predict the direction of the market\n",
    "pred = result.predict(X)"
   ]
  },
  {
   "cell_type": "code",
   "execution_count": 11,
   "metadata": {},
   "outputs": [],
   "source": [
    "# Evaluate using confusion matrix\n",
    "def confusion_matrix(act,pred):\n",
    "    # Transform the actual and predicted values\n",
    "    predtrans = ['Up' if i > 0.5 else 'Down' for i in pred]\n",
    "    actual = ['Up' if i > 0 else 'Down' for i in act]\n",
    "    # Create a confusion matrix\n",
    "    confusion_matrix = pd.crosstab(pd.Series(actual), pd.Series(predtrans), rownames=['Actual'], colnames=['Predicted'])\n",
    "    # Calculate the accuracy\n",
    "    accuracy = (confusion_matrix['Up']['Up'] + confusion_matrix['Down']['Down'])/len(pred)\n",
    "    # Return the confusion matrix and accuracy\n",
    "    return confusion_matrix, accuracy\n",
    "\n",
    "    "
   ]
  },
  {
   "cell_type": "code",
   "execution_count": 12,
   "metadata": {},
   "outputs": [
    {
     "data": {
      "text/plain": [
       "(Predicted  Down    Up\n",
       " Actual               \n",
       " Down        143  3335\n",
       " Up          120  3924,\n",
       " 0.5406806700345653)"
      ]
     },
     "execution_count": 12,
     "metadata": {},
     "output_type": "execute_result"
    }
   ],
   "source": [
    "confusion_matrix(df['Direction'],pred)\n"
   ]
  }
 ],
 "metadata": {
  "kernelspec": {
   "display_name": "Python 3",
   "language": "python",
   "name": "python3"
  },
  "language_info": {
   "codemirror_mode": {
    "name": "ipython",
    "version": 3
   },
   "file_extension": ".py",
   "mimetype": "text/x-python",
   "name": "python",
   "nbconvert_exporter": "python",
   "pygments_lexer": "ipython3",
   "version": "3.10.8 (main, Oct 21 2022, 22:22:30) [Clang 14.0.0 (clang-1400.0.29.202)]"
  },
  "orig_nbformat": 4,
  "vscode": {
   "interpreter": {
    "hash": "b0fa6594d8f4cbf19f97940f81e996739fb7646882a419484c72d19e05852a7e"
   }
  }
 },
 "nbformat": 4,
 "nbformat_minor": 2
}
